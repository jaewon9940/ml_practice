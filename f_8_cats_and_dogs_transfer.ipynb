{
  "nbformat": 4,
  "nbformat_minor": 0,
  "metadata": {
    "colab": {
      "name": "f_8_cats_and_dogs_transfer.ipynb",
      "version": "0.3.2",
      "provenance": [],
      "collapsed_sections": [],
      "include_colab_link": true
    },
    "kernelspec": {
      "name": "python2",
      "display_name": "Python 2"
    },
    "accelerator": "GPU"
  },
  "cells": [
    {
      "cell_type": "markdown",
      "metadata": {
        "id": "view-in-github",
        "colab_type": "text"
      },
      "source": [
        "<a href=\"https://colab.research.google.com/github/jaewon9940/ml_practice/blob/master/f_8_cats_and_dogs_transfer.ipynb\" target=\"_parent\"><img src=\"https://colab.research.google.com/assets/colab-badge.svg\" alt=\"Open In Colab\"/></a>"
      ]
    },
    {
      "metadata": {
        "colab_type": "text",
        "id": "YHK6DyunSbs4"
      },
      "cell_type": "markdown",
      "source": [
        "# 전이학습 고양이 강아지 구분\n",
        "## VGG16 (2014)\n",
        "- 이미지넷으로 사전 훈련된 네트워크를 사용\n",
        "- 1000개의 객체를 구분하는 모델이나, 여기서는 고양이, 강아지 구분에 사용  \n",
        "\n",
        "## 1) 특성추출 방식\n",
        "- 합성곱 필터링 영역(convolutional base)를 그대로 사용\n",
        "- 공통되는 특성만 추출하여 사용한다\n",
        "- 전결합망 부분은 새로운 데이터 (고양이/강아지)로 학습을 다시 시킨다\n",
        "\n",
        "\n",
        "## 2) 미세 조정 방식\n"
      ]
    },
    {
      "metadata": {
        "colab_type": "text",
        "id": "UY6KJV6z6l7_"
      },
      "cell_type": "markdown",
      "source": [
        "## 데이터 다운로드"
      ]
    },
    {
      "metadata": {
        "id": "BintRJjr1QvS",
        "colab_type": "code",
        "colab": {}
      },
      "cell_type": "code",
      "source": [
        "import os, os.path, shutil\n",
        "import zipfile\n",
        "%matplotlib inline\n",
        "\n",
        "import matplotlib.pyplot as plt\n",
        "import matplotlib.image as mpimg\n",
        "from keras.applications import VGG16"
      ],
      "execution_count": 0,
      "outputs": []
    },
    {
      "metadata": {
        "id": "mxOElr1tG82n",
        "colab_type": "text"
      },
      "cell_type": "markdown",
      "source": [
        "## VGG16으로 사전학습된 가중치 가져오기\n",
        "- include_top은 기존의 1000개 전결합망 분류기를 포함할지를 선택"
      ]
    },
    {
      "metadata": {
        "id": "39bxJu-BGL9N",
        "colab_type": "code",
        "outputId": "ce2b15cb-2f34-4025-e6e8-af21e645c69a",
        "colab": {
          "base_uri": "https://localhost:8080/",
          "height": 70
        }
      },
      "cell_type": "code",
      "source": [
        "conv_base = VGG16(weights = 'imagenet',\n",
        "                 include_top=False,\n",
        "                 input_shape=(150, 150, 3))"
      ],
      "execution_count": 3,
      "outputs": [
        {
          "output_type": "stream",
          "text": [
            "Downloading data from https://github.com/fchollet/deep-learning-models/releases/download/v0.1/vgg16_weights_tf_dim_ordering_tf_kernels_notop.h5\n",
            "58892288/58889256 [==============================] - 1s 0us/step\n",
            "58900480/58889256 [==============================] - 1s 0us/step\n"
          ],
          "name": "stdout"
        }
      ]
    },
    {
      "metadata": {
        "id": "84MocF__GLuw",
        "colab_type": "code",
        "outputId": "38caa58b-2858-4036-c6ab-1f139f6ecf26",
        "colab": {
          "base_uri": "https://localhost:8080/",
          "height": 809
        }
      },
      "cell_type": "code",
      "source": [
        "conv_base.summary()"
      ],
      "execution_count": 4,
      "outputs": [
        {
          "output_type": "stream",
          "text": [
            "_________________________________________________________________\n",
            "Layer (type)                 Output Shape              Param #   \n",
            "=================================================================\n",
            "input_1 (InputLayer)         (None, 150, 150, 3)       0         \n",
            "_________________________________________________________________\n",
            "block1_conv1 (Conv2D)        (None, 150, 150, 64)      1792      \n",
            "_________________________________________________________________\n",
            "block1_conv2 (Conv2D)        (None, 150, 150, 64)      36928     \n",
            "_________________________________________________________________\n",
            "block1_pool (MaxPooling2D)   (None, 75, 75, 64)        0         \n",
            "_________________________________________________________________\n",
            "block2_conv1 (Conv2D)        (None, 75, 75, 128)       73856     \n",
            "_________________________________________________________________\n",
            "block2_conv2 (Conv2D)        (None, 75, 75, 128)       147584    \n",
            "_________________________________________________________________\n",
            "block2_pool (MaxPooling2D)   (None, 37, 37, 128)       0         \n",
            "_________________________________________________________________\n",
            "block3_conv1 (Conv2D)        (None, 37, 37, 256)       295168    \n",
            "_________________________________________________________________\n",
            "block3_conv2 (Conv2D)        (None, 37, 37, 256)       590080    \n",
            "_________________________________________________________________\n",
            "block3_conv3 (Conv2D)        (None, 37, 37, 256)       590080    \n",
            "_________________________________________________________________\n",
            "block3_pool (MaxPooling2D)   (None, 18, 18, 256)       0         \n",
            "_________________________________________________________________\n",
            "block4_conv1 (Conv2D)        (None, 18, 18, 512)       1180160   \n",
            "_________________________________________________________________\n",
            "block4_conv2 (Conv2D)        (None, 18, 18, 512)       2359808   \n",
            "_________________________________________________________________\n",
            "block4_conv3 (Conv2D)        (None, 18, 18, 512)       2359808   \n",
            "_________________________________________________________________\n",
            "block4_pool (MaxPooling2D)   (None, 9, 9, 512)         0         \n",
            "_________________________________________________________________\n",
            "block5_conv1 (Conv2D)        (None, 9, 9, 512)         2359808   \n",
            "_________________________________________________________________\n",
            "block5_conv2 (Conv2D)        (None, 9, 9, 512)         2359808   \n",
            "_________________________________________________________________\n",
            "block5_conv3 (Conv2D)        (None, 9, 9, 512)         2359808   \n",
            "_________________________________________________________________\n",
            "block5_pool (MaxPooling2D)   (None, 4, 4, 512)         0         \n",
            "=================================================================\n",
            "Total params: 14,714,688\n",
            "Trainable params: 14,714,688\n",
            "Non-trainable params: 0\n",
            "_________________________________________________________________\n"
          ],
          "name": "stdout"
        }
      ]
    },
    {
      "metadata": {
        "id": "wLStHmXaMqja",
        "colab_type": "text"
      },
      "cell_type": "markdown",
      "source": [
        "## 두가지 옵션이 가능하다\n",
        "### 1) 합성곱 기반을 통과한 출력을 저장한 후 이를 전결합망에 통과\n",
        "- 데이터 확장은 사용할 수 없다\n",
        "- 실행이 빠르다\n",
        "\n",
        "### 2) 모델에 Dense망을 추가하고 학습을 수행\n",
        "- 데이터 확장을 사용할 수 있다.\n",
        "- 비용이 많이 든다\n",
        "\n",
        "\n",
        "### 1) 방식을 먼저 수행한다.\n"
      ]
    },
    {
      "metadata": {
        "id": "kkMqucDvN0Qy",
        "colab_type": "text"
      },
      "cell_type": "markdown",
      "source": [
        "### 데이터 읽기"
      ]
    },
    {
      "metadata": {
        "id": "r9hD7mAvGLVZ",
        "colab_type": "code",
        "colab": {}
      },
      "cell_type": "code",
      "source": [
        ""
      ],
      "execution_count": 0,
      "outputs": []
    },
    {
      "metadata": {
        "id": "JHHE2t4yxpMU",
        "colab_type": "code",
        "outputId": "045e43bc-1f96-4094-e5f1-96935f3ea790",
        "colab": {
          "base_uri": "https://localhost:8080/",
          "height": 210
        }
      },
      "cell_type": "code",
      "source": [
        "if not os.path.exists(\"./data\"):\n",
        "    os.makedirs(\"./data\")\n",
        "if not os.path.exists(\"./data/cats_and_dogs_filtered.zip\"):\n",
        "  !wget --no-check-certificate \\\n",
        "    https://storage.googleapis.com/mledu-datasets/cats_and_dogs_filtered.zip \\\n",
        "    -O ./data/cats_and_dogs_filtered.zip"
      ],
      "execution_count": 5,
      "outputs": [
        {
          "output_type": "stream",
          "text": [
            "--2018-12-11 04:11:35--  https://storage.googleapis.com/mledu-datasets/cats_and_dogs_filtered.zip\n",
            "Resolving storage.googleapis.com (storage.googleapis.com)... 74.125.202.128, 2607:f8b0:4001:c12::80\n",
            "Connecting to storage.googleapis.com (storage.googleapis.com)|74.125.202.128|:443... connected.\n",
            "HTTP request sent, awaiting response... 200 OK\n",
            "Length: 68606236 (65M) [application/zip]\n",
            "Saving to: ‘./data/cats_and_dogs_filtered.zip’\n",
            "\n",
            "\r          ./data/ca   0%[                    ]       0  --.-KB/s               \r         ./data/cat  39%[======>             ]  25.79M   129MB/s               \r        ./data/cats  91%[=================>  ]  60.10M   150MB/s               \r./data/cats_and_dog 100%[===================>]  65.43M   152MB/s    in 0.4s    \n",
            "\n",
            "2018-12-11 04:11:35 (152 MB/s) - ‘./data/cats_and_dogs_filtered.zip’ saved [68606236/68606236]\n",
            "\n"
          ],
          "name": "stdout"
        }
      ]
    },
    {
      "metadata": {
        "id": "rB0mr2KJzs3M",
        "colab_type": "code",
        "outputId": "70d8e4c8-5619-4375-bde6-5d9422f8c696",
        "colab": {
          "base_uri": "https://localhost:8080/",
          "height": 34
        }
      },
      "cell_type": "code",
      "source": [
        "!ls data"
      ],
      "execution_count": 6,
      "outputs": [
        {
          "output_type": "stream",
          "text": [
            "cats_and_dogs_filtered.zip\n"
          ],
          "name": "stdout"
        }
      ]
    },
    {
      "metadata": {
        "colab_type": "code",
        "id": "PLy3pthUS0D2",
        "colab": {}
      },
      "cell_type": "code",
      "source": [
        "local_zip = './data/cats_and_dogs_filtered.zip'\n",
        "zip_ref = zipfile.ZipFile(local_zip, 'r')\n",
        "zip_ref.extractall('./data')\n",
        "zip_ref.close()"
      ],
      "execution_count": 0,
      "outputs": []
    },
    {
      "metadata": {
        "id": "VeJd7lxOy26s",
        "colab_type": "code",
        "outputId": "aa484661-413e-467f-df91-039404c2cb18",
        "colab": {
          "base_uri": "https://localhost:8080/",
          "height": 298
        }
      },
      "cell_type": "code",
      "source": [
        "!apt-get install tree"
      ],
      "execution_count": 8,
      "outputs": [
        {
          "output_type": "stream",
          "text": [
            "Reading package lists... Done\n",
            "Building dependency tree       \n",
            "Reading state information... Done\n",
            "The following NEW packages will be installed:\n",
            "  tree\n",
            "0 upgraded, 1 newly installed, 0 to remove and 10 not upgraded.\n",
            "Need to get 40.7 kB of archives.\n",
            "After this operation, 105 kB of additional disk space will be used.\n",
            "Get:1 http://archive.ubuntu.com/ubuntu bionic/universe amd64 tree amd64 1.7.0-5 [40.7 kB]\n",
            "Fetched 40.7 kB in 1s (73.6 kB/s)\n",
            "Selecting previously unselected package tree.\n",
            "(Reading database ... 26397 files and directories currently installed.)\n",
            "Preparing to unpack .../tree_1.7.0-5_amd64.deb ...\n",
            "Unpacking tree (1.7.0-5) ...\n",
            "Setting up tree (1.7.0-5) ...\n",
            "Processing triggers for man-db (2.8.3-2ubuntu0.1) ...\n"
          ],
          "name": "stdout"
        }
      ]
    },
    {
      "metadata": {
        "id": "eKBizBLr0M8w",
        "colab_type": "code",
        "outputId": "24a4863f-13fc-4d15-cc97-78184b1f1076",
        "colab": {
          "base_uri": "https://localhost:8080/",
          "height": 228
        }
      },
      "cell_type": "code",
      "source": [
        "!tree -d ."
      ],
      "execution_count": 9,
      "outputs": [
        {
          "output_type": "stream",
          "text": [
            ".\n",
            "├── data\n",
            "│   └── cats_and_dogs_filtered\n",
            "│       ├── train\n",
            "│       │   ├── cats\n",
            "│       │   └── dogs\n",
            "│       └── validation\n",
            "│           ├── cats\n",
            "│           └── dogs\n",
            "└── sample_data\n",
            "\n",
            "9 directories\n"
          ],
          "name": "stdout"
        }
      ]
    },
    {
      "metadata": {
        "colab_type": "code",
        "id": "MLZKVtE0dSfk",
        "colab": {}
      },
      "cell_type": "code",
      "source": [
        "base_dir = './data/cats_and_dogs_filtered'\n",
        "train_dir = os.path.join(base_dir, 'train')\n",
        "validation_dir = os.path.join(base_dir, 'validation')"
      ],
      "execution_count": 0,
      "outputs": []
    },
    {
      "metadata": {
        "id": "I-gqmVtXI1If",
        "colab_type": "code",
        "outputId": "24156977-806e-43cb-8434-7e7cd271f7fb",
        "colab": {
          "base_uri": "https://localhost:8080/",
          "height": 34
        }
      },
      "cell_type": "code",
      "source": [
        "train_dir"
      ],
      "execution_count": 11,
      "outputs": [
        {
          "output_type": "execute_result",
          "data": {
            "text/plain": [
              "'./data/cats_and_dogs_filtered/train'"
            ]
          },
          "metadata": {
            "tags": []
          },
          "execution_count": 11
        }
      ]
    },
    {
      "metadata": {
        "colab_type": "text",
        "id": "5oqBkNBJmtUv"
      },
      "cell_type": "markdown",
      "source": [
        "## 특성추출만 사용한 모델 (데이터 증식은 사용하지 않는 방식)\n",
        "- ImageDataGenerator를 사용하여 이미지와 레이블을 생성\n",
        "- conv_base 모델의 predict를 사용하여 이미지의 특성을 추출\n",
        "- 마지막 출력의 크기가 (4, 4, 512)이다.\n"
      ]
    },
    {
      "metadata": {
        "colab_type": "code",
        "id": "IYVLSfbsbf9K",
        "colab": {}
      },
      "cell_type": "code",
      "source": [
        "from keras import layers\n",
        "from keras import models\n",
        "from keras import optimizers\n",
        "from keras.preprocessing import image\n",
        "from keras.preprocessing.image import ImageDataGenerator\n",
        "import numpy as np "
      ],
      "execution_count": 0,
      "outputs": []
    },
    {
      "metadata": {
        "id": "zKpFv6lSGmtR",
        "colab_type": "code",
        "outputId": "3ae7241e-32bd-4181-c43b-1749bd454050",
        "colab": {
          "base_uri": "https://localhost:8080/",
          "height": 281
        }
      },
      "cell_type": "code",
      "source": [
        "img_width = 150\n",
        "img_height = 150\n",
        "batch_size=20\n",
        "\n",
        "datagen = ImageDataGenerator(rescale = 1./255)\n",
        "\n",
        "def extract_features(directory, sample_count):\n",
        "  features = np.zeros(shape=(sample_count, 4, 4, 512))\n",
        "  labels = np.zeros(shape=(sample_count))\n",
        "  generator = datagen.flow_from_directory(\n",
        "      directory,\n",
        " \t    target_size=(img_width,img_height),\n",
        "      class_mode='binary',\n",
        "\t\t\tbatch_size=batch_size)\n",
        "  i=1\n",
        "  for inputs_batch, labels_batch in generator:\n",
        "    features_batch = conv_base.predict(inputs_batch)\n",
        "    features[i*batch_size:(i+1)*batch_size] = features_batch\n",
        "    labels[i*batch_size:(i+1)*batch_size] = labels_batch\n",
        "    i += 1\n",
        "    if i* batch_size >= sample_count:\n",
        "      break\n",
        "  return features, labels\n",
        "\n",
        "train_features, train_labels = extract_features(train_dir, 2000)\n",
        "validation_features, validation_labels = extract_features(validation_dir, 1000)\n",
        "\n",
        "train_features = np.reshape(train_features, (2000, 4*4*512))\n",
        "validation_features = np.reshape(validation_features, (1000, 4*4*512))\n",
        "\n",
        "    \n",
        "model = models.Sequential()\n",
        "\n",
        "model.add(layers.Dense(512, activation='relu', input_dim= 4*4*512))\n",
        "model.add(layers.Dropout(0.5))\n",
        "model.add(layers.Dense(1, activation='sigmoid'))\n",
        "\n",
        "model.summary()"
      ],
      "execution_count": 13,
      "outputs": [
        {
          "output_type": "stream",
          "text": [
            "Found 2000 images belonging to 2 classes.\n",
            "Found 1000 images belonging to 2 classes.\n",
            "_________________________________________________________________\n",
            "Layer (type)                 Output Shape              Param #   \n",
            "=================================================================\n",
            "dense_1 (Dense)              (None, 512)               4194816   \n",
            "_________________________________________________________________\n",
            "dropout_1 (Dropout)          (None, 512)               0         \n",
            "_________________________________________________________________\n",
            "dense_2 (Dense)              (None, 1)                 513       \n",
            "=================================================================\n",
            "Total params: 4,195,329\n",
            "Trainable params: 4,195,329\n",
            "Non-trainable params: 0\n",
            "_________________________________________________________________\n"
          ],
          "name": "stdout"
        }
      ]
    },
    {
      "metadata": {
        "id": "hxITBhxQDwkd",
        "colab_type": "code",
        "outputId": "34db94ae-3c14-4905-e79a-4d1fb22f59e3",
        "colab": {
          "base_uri": "https://localhost:8080/",
          "height": 1090
        }
      },
      "cell_type": "code",
      "source": [
        "model.compile(loss='binary_crossentropy',\n",
        "              optimizer=optimizers.RMSprop(lr=2e-5),\n",
        "              metrics=['acc'])\n",
        "history = model.fit(\n",
        "    train_features, train_labels,\n",
        "    epochs=30,\n",
        "    validation_data= (validation_features, validation_labels),\n",
        "    batch_size=batch_size)"
      ],
      "execution_count": 14,
      "outputs": [
        {
          "output_type": "stream",
          "text": [
            "Train on 2000 samples, validate on 1000 samples\n",
            "Epoch 1/30\n",
            "2000/2000 [==============================] - 2s 1ms/step - loss: 0.5641 - acc: 0.7080 - val_loss: 0.4009 - val_acc: 0.8510\n",
            "Epoch 2/30\n",
            "2000/2000 [==============================] - 1s 523us/step - loss: 0.3932 - acc: 0.8355 - val_loss: 0.3420 - val_acc: 0.8660\n",
            "Epoch 3/30\n",
            "2000/2000 [==============================] - 1s 551us/step - loss: 0.3302 - acc: 0.8600 - val_loss: 0.3099 - val_acc: 0.8730\n",
            "Epoch 4/30\n",
            "2000/2000 [==============================] - 1s 544us/step - loss: 0.2859 - acc: 0.8880 - val_loss: 0.2968 - val_acc: 0.8790\n",
            "Epoch 5/30\n",
            "2000/2000 [==============================] - 1s 550us/step - loss: 0.2586 - acc: 0.9035 - val_loss: 0.2889 - val_acc: 0.8810\n",
            "Epoch 6/30\n",
            "2000/2000 [==============================] - 1s 545us/step - loss: 0.2315 - acc: 0.9110 - val_loss: 0.2776 - val_acc: 0.8800\n",
            "Epoch 7/30\n",
            "2000/2000 [==============================] - 1s 554us/step - loss: 0.2146 - acc: 0.9180 - val_loss: 0.2708 - val_acc: 0.8830\n",
            "Epoch 8/30\n",
            "2000/2000 [==============================] - 1s 551us/step - loss: 0.2042 - acc: 0.9250 - val_loss: 0.2712 - val_acc: 0.8820\n",
            "Epoch 9/30\n",
            "2000/2000 [==============================] - 1s 549us/step - loss: 0.1962 - acc: 0.9275 - val_loss: 0.2654 - val_acc: 0.8810\n",
            "Epoch 10/30\n",
            "2000/2000 [==============================] - 1s 553us/step - loss: 0.1806 - acc: 0.9355 - val_loss: 0.2712 - val_acc: 0.8790\n",
            "Epoch 11/30\n",
            "2000/2000 [==============================] - 1s 552us/step - loss: 0.1675 - acc: 0.9405 - val_loss: 0.2619 - val_acc: 0.8840\n",
            "Epoch 12/30\n",
            "2000/2000 [==============================] - 1s 544us/step - loss: 0.1596 - acc: 0.9465 - val_loss: 0.2645 - val_acc: 0.8810\n",
            "Epoch 13/30\n",
            "2000/2000 [==============================] - 1s 554us/step - loss: 0.1470 - acc: 0.9530 - val_loss: 0.2628 - val_acc: 0.8820\n",
            "Epoch 14/30\n",
            "2000/2000 [==============================] - 1s 547us/step - loss: 0.1431 - acc: 0.9480 - val_loss: 0.2602 - val_acc: 0.8880\n",
            "Epoch 15/30\n",
            "2000/2000 [==============================] - 1s 547us/step - loss: 0.1320 - acc: 0.9560 - val_loss: 0.2650 - val_acc: 0.8810\n",
            "Epoch 16/30\n",
            "2000/2000 [==============================] - 1s 550us/step - loss: 0.1239 - acc: 0.9600 - val_loss: 0.2615 - val_acc: 0.8890\n",
            "Epoch 17/30\n",
            "2000/2000 [==============================] - 1s 552us/step - loss: 0.1232 - acc: 0.9580 - val_loss: 0.2645 - val_acc: 0.8960\n",
            "Epoch 18/30\n",
            "2000/2000 [==============================] - 1s 548us/step - loss: 0.1156 - acc: 0.9640 - val_loss: 0.2582 - val_acc: 0.8860\n",
            "Epoch 19/30\n",
            "2000/2000 [==============================] - 1s 552us/step - loss: 0.1103 - acc: 0.9665 - val_loss: 0.2582 - val_acc: 0.8870\n",
            "Epoch 20/30\n",
            "2000/2000 [==============================] - 1s 553us/step - loss: 0.1065 - acc: 0.9615 - val_loss: 0.2600 - val_acc: 0.8940\n",
            "Epoch 21/30\n",
            "2000/2000 [==============================] - 1s 553us/step - loss: 0.1002 - acc: 0.9685 - val_loss: 0.2668 - val_acc: 0.8980\n",
            "Epoch 22/30\n",
            "2000/2000 [==============================] - 1s 544us/step - loss: 0.0923 - acc: 0.9745 - val_loss: 0.2808 - val_acc: 0.8840\n",
            "Epoch 23/30\n",
            "2000/2000 [==============================] - 1s 558us/step - loss: 0.0899 - acc: 0.9770 - val_loss: 0.2639 - val_acc: 0.8950\n",
            "Epoch 24/30\n",
            "2000/2000 [==============================] - 1s 552us/step - loss: 0.0845 - acc: 0.9770 - val_loss: 0.2636 - val_acc: 0.8940\n",
            "Epoch 25/30\n",
            "2000/2000 [==============================] - 1s 547us/step - loss: 0.0802 - acc: 0.9795 - val_loss: 0.2658 - val_acc: 0.8890\n",
            "Epoch 26/30\n",
            "2000/2000 [==============================] - 1s 554us/step - loss: 0.0780 - acc: 0.9790 - val_loss: 0.2649 - val_acc: 0.8920\n",
            "Epoch 27/30\n",
            "2000/2000 [==============================] - 1s 547us/step - loss: 0.0744 - acc: 0.9800 - val_loss: 0.2673 - val_acc: 0.8940\n",
            "Epoch 28/30\n",
            "2000/2000 [==============================] - 1s 546us/step - loss: 0.0684 - acc: 0.9830 - val_loss: 0.2680 - val_acc: 0.8960\n",
            "Epoch 29/30\n",
            "2000/2000 [==============================] - 1s 551us/step - loss: 0.0666 - acc: 0.9840 - val_loss: 0.2677 - val_acc: 0.8940\n",
            "Epoch 30/30\n",
            "2000/2000 [==============================] - 1s 553us/step - loss: 0.0635 - acc: 0.9865 - val_loss: 0.2702 - val_acc: 0.8920\n"
          ],
          "name": "stdout"
        }
      ]
    },
    {
      "metadata": {
        "colab_type": "text",
        "id": "Q5Vulban4ZrD"
      },
      "cell_type": "markdown",
      "source": [
        "## 성능 확인"
      ]
    },
    {
      "metadata": {
        "colab_type": "code",
        "id": "0oj0gTIy4k60",
        "outputId": "05e013fb-d999-4667-e052-4d4490a330ad",
        "colab": {
          "base_uri": "https://localhost:8080/",
          "height": 561
        }
      },
      "cell_type": "code",
      "source": [
        "acc = history.history['acc']\n",
        "val_acc = history.history['val_acc']\n",
        "\n",
        "loss = history.history['loss']\n",
        "val_loss = history.history['val_loss']\n",
        "\n",
        "epochs = range(len(acc))\n",
        "\n",
        "plt.plot(epochs, acc)\n",
        "plt.plot(epochs, val_acc)\n",
        "plt.title('Training and validation accuracy')\n",
        "\n",
        "plt.figure()\n",
        "\n",
        "plt.plot(epochs, loss)\n",
        "plt.plot(epochs, val_loss)\n",
        "plt.title('Training and validation loss')"
      ],
      "execution_count": 15,
      "outputs": [
        {
          "output_type": "execute_result",
          "data": {
            "text/plain": [
              "Text(0.5,1,u'Training and validation loss')"
            ]
          },
          "metadata": {
            "tags": []
          },
          "execution_count": 15
        },
        {
          "output_type": "display_data",
          "data": {
            "image/png": "[encoded data removed]",
            "text/plain": [
              "<matplotlib.figure.Figure at 0x7fa3abf61910>"
            ]
          },
          "metadata": {
            "tags": []
          }
        },
        {
          "output_type": "display_data",
          "data": {
            "image/png": "[encoded data removed]",
            "text/plain": [
              "<matplotlib.figure.Figure at 0x7fa3abf4d650>"
            ]
          },
          "metadata": {
            "tags": []
          }
        }
      ]
    },
    {
      "metadata": {
        "colab_type": "text",
        "id": "DgmSjUST4qoS"
      },
      "cell_type": "markdown",
      "source": [
        "### 과대적합이 발생한 것을 알 수 있다.\n",
        "- 훈련 데이터가 부족하다\n",
        "- 데이터 확장을 사용하여 개선할 수 있다."
      ]
    },
    {
      "metadata": {
        "id": "zY8xC3RKIMjf",
        "colab_type": "text"
      },
      "cell_type": "markdown",
      "source": [
        "### 2) 모델에 Dense망을 추가하고 학습을 수행\n",
        "- 데이터 확장을 사용할 수 있다.\n",
        "- 비용이 많이 든다\n",
        "- 엔드-투-엔드로 실행한다"
      ]
    },
    {
      "metadata": {
        "id": "dEPZtbjoYyko",
        "colab_type": "code",
        "outputId": "98279d86-f8f2-4c55-d767-1d480ef59e1b",
        "colab": {
          "base_uri": "https://localhost:8080/",
          "height": 281
        }
      },
      "cell_type": "code",
      "source": [
        "# 모델\n",
        "\n",
        "model = models.Sequential()\n",
        "model.add(conv_base)\n",
        "\n",
        "model.add(layers.Flatten())\n",
        "model.add(layers.Dense(256, activation='relu'))\n",
        "model.add(layers.Dense(1, activation='sigmoid'))\n",
        "\n",
        "model.summary()"
      ],
      "execution_count": 16,
      "outputs": [
        {
          "output_type": "stream",
          "text": [
            "_________________________________________________________________\n",
            "Layer (type)                 Output Shape              Param #   \n",
            "=================================================================\n",
            "vgg16 (Model)                (None, 4, 4, 512)         14714688  \n",
            "_________________________________________________________________\n",
            "flatten_1 (Flatten)          (None, 8192)              0         \n",
            "_________________________________________________________________\n",
            "dense_3 (Dense)              (None, 256)               2097408   \n",
            "_________________________________________________________________\n",
            "dense_4 (Dense)              (None, 1)                 257       \n",
            "=================================================================\n",
            "Total params: 16,812,353\n",
            "Trainable params: 16,812,353\n",
            "Non-trainable params: 0\n",
            "_________________________________________________________________\n"
          ],
          "name": "stdout"
        }
      ]
    },
    {
      "metadata": {
        "id": "cRwp7DKRZNey",
        "colab_type": "text"
      },
      "cell_type": "markdown",
      "source": [
        "## 학습을 동결하지 않으면 모두 재 학습된다!"
      ]
    },
    {
      "metadata": {
        "id": "81xIo14SZaM_",
        "colab_type": "code",
        "outputId": "84f02048-2058-4814-c33e-0ca1b2b9f365",
        "colab": {
          "base_uri": "https://localhost:8080/",
          "height": 34
        }
      },
      "cell_type": "code",
      "source": [
        "print(len(model.trainable_weights))"
      ],
      "execution_count": 17,
      "outputs": [
        {
          "output_type": "stream",
          "text": [
            "30\n"
          ],
          "name": "stdout"
        }
      ]
    },
    {
      "metadata": {
        "id": "1I-bJVROjbEi",
        "colab_type": "code",
        "colab": {}
      },
      "cell_type": "code",
      "source": [
        "conv_base.trainable = False"
      ],
      "execution_count": 0,
      "outputs": []
    },
    {
      "metadata": {
        "id": "MN5_TfDJjisU",
        "colab_type": "code",
        "outputId": "32191aaa-05d7-4ae4-a370-dba9aa07e339",
        "colab": {
          "base_uri": "https://localhost:8080/",
          "height": 34
        }
      },
      "cell_type": "code",
      "source": [
        "print(len(model.trainable_weights))"
      ],
      "execution_count": 0,
      "outputs": [
        {
          "output_type": "stream",
          "text": [
            "4\n"
          ],
          "name": "stdout"
        }
      ]
    },
    {
      "metadata": {
        "id": "OUz97nA0jr_y",
        "colab_type": "code",
        "outputId": "0d15b0e3-30ae-4337-8908-11c30c50677d",
        "colab": {
          "base_uri": "https://localhost:8080/",
          "height": 281
        }
      },
      "cell_type": "code",
      "source": [
        "model.summary()"
      ],
      "execution_count": 19,
      "outputs": [
        {
          "output_type": "stream",
          "text": [
            "_________________________________________________________________\n",
            "Layer (type)                 Output Shape              Param #   \n",
            "=================================================================\n",
            "vgg16 (Model)                (None, 4, 4, 512)         14714688  \n",
            "_________________________________________________________________\n",
            "flatten_1 (Flatten)          (None, 8192)              0         \n",
            "_________________________________________________________________\n",
            "dense_3 (Dense)              (None, 256)               2097408   \n",
            "_________________________________________________________________\n",
            "dense_4 (Dense)              (None, 1)                 257       \n",
            "=================================================================\n",
            "Total params: 16,812,353\n",
            "Trainable params: 2,097,665\n",
            "Non-trainable params: 14,714,688\n",
            "_________________________________________________________________\n"
          ],
          "name": "stdout"
        }
      ]
    },
    {
      "metadata": {
        "id": "E68OZRcKkQoU",
        "colab_type": "text"
      },
      "cell_type": "markdown",
      "source": [
        "### 컴파일을 수행해야 변경사항이 적용된다"
      ]
    },
    {
      "metadata": {
        "id": "uG0pDWWMHKkk",
        "colab_type": "code",
        "outputId": "1d61660d-d743-45da-fad5-feb5475dd3e0",
        "colab": {
          "base_uri": "https://localhost:8080/",
          "height": 52
        }
      },
      "cell_type": "code",
      "source": [
        "train_datagen = ImageDataGenerator(\n",
        "  rescale= 1./255,\n",
        "  rotation_range = 40,\n",
        "  width_shift_range = 0.2,\n",
        "  height_shift_range = 0.2,\n",
        "  shear_range=0.2,\n",
        "  zoom_range=0.2,\n",
        "  horizontal_flip = True,\n",
        "  fill_mode='nearest')\n",
        "\n",
        "validation_datagen = ImageDataGenerator(rescale = 1./255)\n",
        "\n",
        "train_generator = train_datagen.flow_from_directory(directory=train_dir,\n",
        "\t\t\t\t\t\t\t\t\t\t\t   target_size=(img_width,img_height),\n",
        "\t\t\t\t\t\t\t\t\t\t\t   class_mode='binary',\n",
        "\t\t\t\t\t\t\t\t\t\t\t   batch_size=20)\n",
        "\n",
        "validation_generator = validation_datagen.flow_from_directory(directory=validation_dir,\n",
        "\t\t\t\t\t\t\t\t\t\t\t   target_size=(img_width,img_height),\n",
        "\t\t\t\t\t\t\t\t\t\t\t   class_mode='binary',\n",
        "\t\t\t\t\t\t\t\t\t\t\t   batch_size=20)\n",
        "\n",
        "\n"
      ],
      "execution_count": 20,
      "outputs": [
        {
          "output_type": "stream",
          "text": [
            "Found 2000 images belonging to 2 classes.\n",
            "Found 1000 images belonging to 2 classes.\n"
          ],
          "name": "stdout"
        }
      ]
    },
    {
      "metadata": {
        "id": "PNj36PXplaCx",
        "colab_type": "text"
      },
      "cell_type": "markdown",
      "source": [
        "### 과대적합이 줄어든 것을 볼 수 있다."
      ]
    },
    {
      "metadata": {
        "id": "Cpgy1ZUjHKhU",
        "colab_type": "code",
        "outputId": "f60abfcb-122d-4bee-c575-bcaa72427d1f",
        "colab": {
          "base_uri": "https://localhost:8080/",
          "height": 1073
        }
      },
      "cell_type": "code",
      "source": [
        "model.compile(loss='binary_crossentropy',\n",
        "              optimizer=optimizers.RMSprop(lr=2e-5),\n",
        "              metrics=['acc'])\n",
        "\n",
        "\n",
        "history = model.fit_generator(\n",
        "    generator=train_generator, \n",
        "    steps_per_epoch=100,\n",
        "    epochs=30,\n",
        "    validation_data=validation_generator,\n",
        "    validation_steps=50)"
      ],
      "execution_count": 21,
      "outputs": [
        {
          "output_type": "stream",
          "text": [
            "Epoch 1/30\n",
            "100/100 [==============================] - 28s 279ms/step - loss: 0.6209 - acc: 0.6595 - val_loss: 0.4479 - val_acc: 0.8220\n",
            "Epoch 2/30\n",
            "100/100 [==============================] - 25s 254ms/step - loss: 0.4823 - acc: 0.7885 - val_loss: 0.3644 - val_acc: 0.8400\n",
            "Epoch 3/30\n",
            "100/100 [==============================] - 26s 257ms/step - loss: 0.4318 - acc: 0.8160 - val_loss: 0.3301 - val_acc: 0.8480\n",
            "Epoch 4/30\n",
            "100/100 [==============================] - 26s 256ms/step - loss: 0.4029 - acc: 0.8130 - val_loss: 0.3135 - val_acc: 0.8580\n",
            "Epoch 5/30\n",
            "100/100 [==============================] - 26s 258ms/step - loss: 0.3828 - acc: 0.8330 - val_loss: 0.3290 - val_acc: 0.8540\n",
            "Epoch 6/30\n",
            "100/100 [==============================] - 26s 262ms/step - loss: 0.3840 - acc: 0.8280 - val_loss: 0.2936 - val_acc: 0.8700\n",
            "Epoch 7/30\n",
            "100/100 [==============================] - 26s 258ms/step - loss: 0.3624 - acc: 0.8410 - val_loss: 0.3100 - val_acc: 0.8650\n",
            "Epoch 8/30\n",
            "100/100 [==============================] - 26s 257ms/step - loss: 0.3528 - acc: 0.8485 - val_loss: 0.2940 - val_acc: 0.8730\n",
            "Epoch 9/30\n",
            "100/100 [==============================] - 26s 257ms/step - loss: 0.3468 - acc: 0.8450 - val_loss: 0.2686 - val_acc: 0.8770\n",
            "Epoch 10/30\n",
            "100/100 [==============================] - 25s 255ms/step - loss: 0.3377 - acc: 0.8500 - val_loss: 0.2673 - val_acc: 0.8740\n",
            "Epoch 11/30\n",
            "100/100 [==============================] - 26s 258ms/step - loss: 0.3379 - acc: 0.8475 - val_loss: 0.2847 - val_acc: 0.8780\n",
            "Epoch 12/30\n",
            "100/100 [==============================] - 26s 257ms/step - loss: 0.3172 - acc: 0.8670 - val_loss: 0.2632 - val_acc: 0.8820\n",
            "Epoch 13/30\n",
            "100/100 [==============================] - 26s 258ms/step - loss: 0.3346 - acc: 0.8500 - val_loss: 0.2660 - val_acc: 0.8820\n",
            "Epoch 14/30\n",
            "100/100 [==============================] - 26s 256ms/step - loss: 0.3147 - acc: 0.8530 - val_loss: 0.2597 - val_acc: 0.8820\n",
            "Epoch 15/30\n",
            "100/100 [==============================] - 26s 258ms/step - loss: 0.3106 - acc: 0.8645 - val_loss: 0.2566 - val_acc: 0.8860\n",
            "Epoch 16/30\n",
            "100/100 [==============================] - 26s 257ms/step - loss: 0.3107 - acc: 0.8625 - val_loss: 0.2564 - val_acc: 0.8840\n",
            "Epoch 17/30\n",
            "100/100 [==============================] - 26s 256ms/step - loss: 0.3078 - acc: 0.8660 - val_loss: 0.2549 - val_acc: 0.8860\n",
            "Epoch 18/30\n",
            "100/100 [==============================] - 26s 258ms/step - loss: 0.2937 - acc: 0.8765 - val_loss: 0.2697 - val_acc: 0.8880\n",
            "Epoch 19/30\n",
            "100/100 [==============================] - 26s 256ms/step - loss: 0.2992 - acc: 0.8715 - val_loss: 0.2579 - val_acc: 0.8900\n",
            "Epoch 20/30\n",
            "100/100 [==============================] - 26s 257ms/step - loss: 0.3054 - acc: 0.8740 - val_loss: 0.2498 - val_acc: 0.8900\n",
            "Epoch 21/30\n",
            "100/100 [==============================] - 25s 255ms/step - loss: 0.2968 - acc: 0.8680 - val_loss: 0.2609 - val_acc: 0.8890\n",
            "Epoch 22/30\n",
            "100/100 [==============================] - 26s 256ms/step - loss: 0.2954 - acc: 0.8710 - val_loss: 0.2507 - val_acc: 0.8870\n",
            "Epoch 23/30\n",
            "100/100 [==============================] - 26s 256ms/step - loss: 0.2954 - acc: 0.8830 - val_loss: 0.2445 - val_acc: 0.8830\n",
            "Epoch 24/30\n",
            "100/100 [==============================] - 26s 257ms/step - loss: 0.2849 - acc: 0.8725 - val_loss: 0.2467 - val_acc: 0.8840\n",
            "Epoch 25/30\n",
            "100/100 [==============================] - 26s 258ms/step - loss: 0.2885 - acc: 0.8730 - val_loss: 0.2459 - val_acc: 0.8840\n",
            "Epoch 26/30\n",
            "100/100 [==============================] - 26s 256ms/step - loss: 0.2872 - acc: 0.8675 - val_loss: 0.2936 - val_acc: 0.8800\n",
            "Epoch 27/30\n",
            "100/100 [==============================] - 26s 257ms/step - loss: 0.2906 - acc: 0.8745 - val_loss: 0.2448 - val_acc: 0.8910\n",
            "Epoch 28/30\n",
            "100/100 [==============================] - 26s 256ms/step - loss: 0.3010 - acc: 0.8680 - val_loss: 0.2490 - val_acc: 0.8920\n",
            "Epoch 29/30\n",
            "100/100 [==============================] - 26s 257ms/step - loss: 0.2947 - acc: 0.8690 - val_loss: 0.2398 - val_acc: 0.8940\n",
            "Epoch 30/30\n",
            "100/100 [==============================] - 26s 256ms/step - loss: 0.2820 - acc: 0.8760 - val_loss: 0.2412 - val_acc: 0.8940\n"
          ],
          "name": "stdout"
        }
      ]
    },
    {
      "metadata": {
        "id": "5d1NMELUHKd-",
        "colab_type": "code",
        "outputId": "da6e8fa9-38f8-4a8a-fc03-790ac67d1b31",
        "colab": {
          "base_uri": "https://localhost:8080/",
          "height": 561
        }
      },
      "cell_type": "code",
      "source": [
        "acc = history.history['acc']\n",
        "val_acc = history.history['val_acc']\n",
        "\n",
        "loss = history.history['loss']\n",
        "val_loss = history.history['val_loss']\n",
        "\n",
        "epochs = range(len(acc))\n",
        "\n",
        "plt.plot(epochs, acc)\n",
        "plt.plot(epochs, val_acc)\n",
        "plt.title('Training and validation accuracy')\n",
        "\n",
        "plt.figure()\n",
        "\n",
        "plt.plot(epochs, loss)\n",
        "plt.plot(epochs, val_loss)\n",
        "plt.title('Training and validation loss')"
      ],
      "execution_count": 22,
      "outputs": [
        {
          "output_type": "execute_result",
          "data": {
            "text/plain": [
              "Text(0.5,1,u'Training and validation loss')"
            ]
          },
          "metadata": {
            "tags": []
          },
          "execution_count": 22
        },
        {
          "output_type": "display_data",
          "data": {
            "image/png": "[encoded data removed]",
            "text/plain": [
              "<matplotlib.figure.Figure at 0x7fa3abe7ee10>"
            ]
          },
          "metadata": {
            "tags": []
          }
        },
        {
          "output_type": "display_data",
          "data": {
            "image/png": "[encoded data removed]",
            "text/plain": [
              "<matplotlib.figure.Figure at 0x7fa3ab343650>"
            ]
          },
          "metadata": {
            "tags": []
          }
        }
      ]
    },
    {
      "metadata": {
        "id": "0qC0I1Xglvbp",
        "colab_type": "text"
      },
      "cell_type": "markdown",
      "source": [
        "## 미세조정 방법\n",
        "- 상위 계층 몇개를 재학습시킨다\n",
        "- 앞에서 소개한 절차, 즉, 전결합망(top)부분을 먼저 학습시킨 후에 상위계층의 미세조정을 해야 한다 (한번에 학습하면 안되고 두 단계로 나누어야 함)\n",
        "\n",
        "         "
      ]
    },
    {
      "metadata": {
        "id": "t5XAI5qT2M8W",
        "colab_type": "code",
        "outputId": "38f2bad0-e5f7-462d-947a-997c60d09600",
        "colab": {
          "base_uri": "https://localhost:8080/",
          "height": 809
        }
      },
      "cell_type": "code",
      "source": [
        "conv_base.summary()"
      ],
      "execution_count": 23,
      "outputs": [
        {
          "output_type": "stream",
          "text": [
            "_________________________________________________________________\n",
            "Layer (type)                 Output Shape              Param #   \n",
            "=================================================================\n",
            "input_1 (InputLayer)         (None, 150, 150, 3)       0         \n",
            "_________________________________________________________________\n",
            "block1_conv1 (Conv2D)        (None, 150, 150, 64)      1792      \n",
            "_________________________________________________________________\n",
            "block1_conv2 (Conv2D)        (None, 150, 150, 64)      36928     \n",
            "_________________________________________________________________\n",
            "block1_pool (MaxPooling2D)   (None, 75, 75, 64)        0         \n",
            "_________________________________________________________________\n",
            "block2_conv1 (Conv2D)        (None, 75, 75, 128)       73856     \n",
            "_________________________________________________________________\n",
            "block2_conv2 (Conv2D)        (None, 75, 75, 128)       147584    \n",
            "_________________________________________________________________\n",
            "block2_pool (MaxPooling2D)   (None, 37, 37, 128)       0         \n",
            "_________________________________________________________________\n",
            "block3_conv1 (Conv2D)        (None, 37, 37, 256)       295168    \n",
            "_________________________________________________________________\n",
            "block3_conv2 (Conv2D)        (None, 37, 37, 256)       590080    \n",
            "_________________________________________________________________\n",
            "block3_conv3 (Conv2D)        (None, 37, 37, 256)       590080    \n",
            "_________________________________________________________________\n",
            "block3_pool (MaxPooling2D)   (None, 18, 18, 256)       0         \n",
            "_________________________________________________________________\n",
            "block4_conv1 (Conv2D)        (None, 18, 18, 512)       1180160   \n",
            "_________________________________________________________________\n",
            "block4_conv2 (Conv2D)        (None, 18, 18, 512)       2359808   \n",
            "_________________________________________________________________\n",
            "block4_conv3 (Conv2D)        (None, 18, 18, 512)       2359808   \n",
            "_________________________________________________________________\n",
            "block4_pool (MaxPooling2D)   (None, 9, 9, 512)         0         \n",
            "_________________________________________________________________\n",
            "block5_conv1 (Conv2D)        (None, 9, 9, 512)         2359808   \n",
            "_________________________________________________________________\n",
            "block5_conv2 (Conv2D)        (None, 9, 9, 512)         2359808   \n",
            "_________________________________________________________________\n",
            "block5_conv3 (Conv2D)        (None, 9, 9, 512)         2359808   \n",
            "_________________________________________________________________\n",
            "block5_pool (MaxPooling2D)   (None, 4, 4, 512)         0         \n",
            "=================================================================\n",
            "Total params: 14,714,688\n",
            "Trainable params: 0\n",
            "Non-trainable params: 14,714,688\n",
            "_________________________________________________________________\n"
          ],
          "name": "stdout"
        }
      ]
    },
    {
      "metadata": {
        "id": "RAUd8YyW2blO",
        "colab_type": "text"
      },
      "cell_type": "markdown",
      "source": [
        "### 위에서 block 5 부분만 미세조정 하겠다"
      ]
    },
    {
      "metadata": {
        "id": "pEVEbvcW2TBl",
        "colab_type": "code",
        "colab": {}
      },
      "cell_type": "code",
      "source": [
        "conv_base.trainable = True\n",
        "\n",
        "set_trainable = False\n",
        "for layer in conv_base.layers:\n",
        "  if layer.name == 'block5_conv1':\n",
        "    set_trainable = True\n",
        "  if set_trainable:\n",
        "    layer.trainable = True\n",
        "  else:\n",
        "    layer.trainable = False"
      ],
      "execution_count": 0,
      "outputs": []
    },
    {
      "metadata": {
        "id": "7uCc31nj3lJq",
        "colab_type": "text"
      },
      "cell_type": "markdown",
      "source": [
        "### 학습률을 작게 조정한다 (천천히 학습하도록)"
      ]
    },
    {
      "metadata": {
        "id": "oEZvEBLt3fZl",
        "colab_type": "code",
        "outputId": "e1e6d8ac-29a7-4ebd-9b3d-f243047ae913",
        "colab": {
          "base_uri": "https://localhost:8080/",
          "height": 1073
        }
      },
      "cell_type": "code",
      "source": [
        "model.compile(loss='binary_crossentropy',\n",
        "              optimizer=optimizers.RMSprop(lr=1e-5),\n",
        "              metrics=['acc'])\n",
        "\n",
        "\n",
        "history = model.fit_generator(\n",
        "    generator=train_generator, \n",
        "    steps_per_epoch=100,\n",
        "    epochs=30,\n",
        "    validation_data=validation_generator,\n",
        "    validation_steps=50)"
      ],
      "execution_count": 25,
      "outputs": [
        {
          "output_type": "stream",
          "text": [
            "Epoch 1/30\n",
            "100/100 [==============================] - 29s 291ms/step - loss: 0.2932 - acc: 0.8745 - val_loss: 0.2728 - val_acc: 0.8990\n",
            "Epoch 2/30\n",
            "100/100 [==============================] - 27s 266ms/step - loss: 0.2538 - acc: 0.8805 - val_loss: 0.2366 - val_acc: 0.9220\n",
            "Epoch 3/30\n",
            "100/100 [==============================] - 27s 266ms/step - loss: 0.2211 - acc: 0.9030 - val_loss: 0.2163 - val_acc: 0.9050\n",
            "Epoch 4/30\n",
            "100/100 [==============================] - 27s 266ms/step - loss: 0.2284 - acc: 0.9040 - val_loss: 0.2110 - val_acc: 0.9300\n",
            "Epoch 5/30\n",
            "100/100 [==============================] - 27s 267ms/step - loss: 0.1922 - acc: 0.9165 - val_loss: 0.1859 - val_acc: 0.9270\n",
            "Epoch 6/30\n",
            "100/100 [==============================] - 27s 267ms/step - loss: 0.1959 - acc: 0.9225 - val_loss: 0.2049 - val_acc: 0.9270\n",
            "Epoch 7/30\n",
            "100/100 [==============================] - 27s 267ms/step - loss: 0.1768 - acc: 0.9280 - val_loss: 0.2018 - val_acc: 0.9210\n",
            "Epoch 8/30\n",
            "100/100 [==============================] - 27s 266ms/step - loss: 0.1691 - acc: 0.9290 - val_loss: 0.2190 - val_acc: 0.9320\n",
            "Epoch 9/30\n",
            "100/100 [==============================] - 26s 265ms/step - loss: 0.1628 - acc: 0.9420 - val_loss: 0.1926 - val_acc: 0.9220\n",
            "Epoch 10/30\n",
            "100/100 [==============================] - 27s 269ms/step - loss: 0.1573 - acc: 0.9355 - val_loss: 0.1846 - val_acc: 0.9400\n",
            "Epoch 11/30\n",
            "100/100 [==============================] - 27s 267ms/step - loss: 0.1456 - acc: 0.9405 - val_loss: 0.1978 - val_acc: 0.9340\n",
            "Epoch 12/30\n",
            "100/100 [==============================] - 27s 267ms/step - loss: 0.1444 - acc: 0.9390 - val_loss: 0.2009 - val_acc: 0.9360\n",
            "Epoch 13/30\n",
            "100/100 [==============================] - 27s 267ms/step - loss: 0.1292 - acc: 0.9535 - val_loss: 0.1948 - val_acc: 0.9400\n",
            "Epoch 14/30\n",
            "100/100 [==============================] - 27s 267ms/step - loss: 0.1287 - acc: 0.9500 - val_loss: 0.1711 - val_acc: 0.9410\n",
            "Epoch 15/30\n",
            "100/100 [==============================] - 27s 268ms/step - loss: 0.1069 - acc: 0.9590 - val_loss: 0.2488 - val_acc: 0.9260\n",
            "Epoch 16/30\n",
            "100/100 [==============================] - 27s 267ms/step - loss: 0.1184 - acc: 0.9545 - val_loss: 0.1854 - val_acc: 0.9360\n",
            "Epoch 17/30\n",
            "100/100 [==============================] - 27s 266ms/step - loss: 0.1062 - acc: 0.9575 - val_loss: 0.2078 - val_acc: 0.9310\n",
            "Epoch 18/30\n",
            "100/100 [==============================] - 26s 265ms/step - loss: 0.1016 - acc: 0.9605 - val_loss: 0.1759 - val_acc: 0.9410\n",
            "Epoch 19/30\n",
            "100/100 [==============================] - 27s 267ms/step - loss: 0.1042 - acc: 0.9625 - val_loss: 0.2639 - val_acc: 0.9300\n",
            "Epoch 20/30\n",
            "100/100 [==============================] - 27s 265ms/step - loss: 0.1007 - acc: 0.9565 - val_loss: 0.1848 - val_acc: 0.9410\n",
            "Epoch 21/30\n",
            "100/100 [==============================] - 27s 267ms/step - loss: 0.0873 - acc: 0.9695 - val_loss: 0.3157 - val_acc: 0.9180\n",
            "Epoch 22/30\n",
            "100/100 [==============================] - 27s 266ms/step - loss: 0.0884 - acc: 0.9655 - val_loss: 0.2006 - val_acc: 0.9400\n",
            "Epoch 23/30\n",
            "100/100 [==============================] - 27s 266ms/step - loss: 0.0875 - acc: 0.9630 - val_loss: 0.2503 - val_acc: 0.9310\n",
            "Epoch 24/30\n",
            "100/100 [==============================] - 27s 266ms/step - loss: 0.0818 - acc: 0.9690 - val_loss: 0.1543 - val_acc: 0.9510\n",
            "Epoch 25/30\n",
            "100/100 [==============================] - 27s 266ms/step - loss: 0.0867 - acc: 0.9640 - val_loss: 0.2528 - val_acc: 0.9210\n",
            "Epoch 26/30\n",
            "100/100 [==============================] - 27s 267ms/step - loss: 0.0752 - acc: 0.9675 - val_loss: 0.2184 - val_acc: 0.9450\n",
            "Epoch 27/30\n",
            "100/100 [==============================] - 26s 264ms/step - loss: 0.0789 - acc: 0.9700 - val_loss: 0.1815 - val_acc: 0.9360\n",
            "Epoch 28/30\n",
            "100/100 [==============================] - 27s 266ms/step - loss: 0.0771 - acc: 0.9715 - val_loss: 0.2648 - val_acc: 0.9200\n",
            "Epoch 29/30\n",
            "100/100 [==============================] - 27s 266ms/step - loss: 0.0815 - acc: 0.9690 - val_loss: 0.1746 - val_acc: 0.9340\n",
            "Epoch 30/30\n",
            "100/100 [==============================] - 27s 267ms/step - loss: 0.0805 - acc: 0.9690 - val_loss: 0.1910 - val_acc: 0.9450\n"
          ],
          "name": "stdout"
        }
      ]
    },
    {
      "metadata": {
        "id": "QCbU7FQU47OP",
        "colab_type": "text"
      },
      "cell_type": "markdown",
      "source": [
        "## 성능이 92%로 1% 정도 향상되었다.\n",
        "- 주의 할 것은 손실함수는 향상되지 않는 것으로 나타나도, 성능이 향상될 수 있다는 것이다. (분류 성능은 어떤 임계값만 넘으면 활률적으로 개선될 수 있다)\n",
        "\n",
        "## 요약\n",
        "- 과대적합을 줄이기 위해서 데이터 확장을 사용\n",
        "- 전이학습 중 특성 추출방식 소개\n",
        "- 전이학습 중 미세조정 방식 소개"
      ]
    },
    {
      "metadata": {
        "id": "8zFN7erS5SEV",
        "colab_type": "code",
        "colab": {}
      },
      "cell_type": "code",
      "source": [
        ""
      ],
      "execution_count": 0,
      "outputs": []
    }
  ]
}